{
 "metadata": {
  "language": "Julia",
  "name": ""
 },
 "nbformat": 3,
 "nbformat_minor": 0,
 "worksheets": [
  {
   "cells": [
    {
     "cell_type": "heading",
     "level": 1,
     "metadata": {},
     "source": [
      "Download Julia"
     ]
    },
    {
     "cell_type": "markdown",
     "metadata": {},
     "source": [
      "I'll assume you're running something close to the 0.2 release of Julia, which is the current stable release.\n",
      "\n",
      "You can download binaries from [http://julialang.org/downloads/](http://julialang.org/downloads/).\n",
      "\n",
      "I'm using a minor variant, which offers faster startup times, but lower reliability."
     ]
    },
    {
     "cell_type": "heading",
     "level": 1,
     "metadata": {},
     "source": [
      "Install Packages"
     ]
    },
    {
     "cell_type": "markdown",
     "metadata": {},
     "source": [
      "    Pkg.add(\"Homebrew\")\n",
      "    Pkg.add(\"IJulia\")\n",
      "    Pkg.add(\"Gadfly\")\n",
      "    Pkg.add(\"Optim\")\n",
      "    Pkg.add(\"RDatasets\")\n",
      "    Pkg.add(\"JuMP\")\n",
      "    Pkg.add(\"Cbc\")\n",
      "    Pkg.add(\"Clp\")"
     ]
    },
    {
     "cell_type": "markdown",
     "metadata": {},
     "source": [
      "This will install a large number of packages. When I did this on Sunday night, I got:"
     ]
    },
    {
     "cell_type": "markdown",
     "metadata": {},
     "source": [
      "* BinDeps\n",
      "* Blocks\n",
      "* Calculus\n",
      "* Cbc\n",
      "* Clp\n",
      "* Codecs\n",
      "* Color\n",
      "* Compose\n",
      "* DataArrays\n",
      "* DataFrames\n",
      "* Datetime\n",
      "* Distance\n",
      "* Distributions\n",
      "* GZip\n",
      "* Gadfly\n",
      "* Homebrew\n",
      "* IJulia\n",
      "* Iterators\n",
      "* JSON\n",
      "* JuMP\n",
      "* Loess\n",
      "* MathProgBase\n",
      "* Nettle\n",
      "* NumericExtensions\n",
      "* Optim\n",
      "* Options\n",
      "* RDatasets\n",
      "* REPLCompletions\n",
      "* SortingAlgorithms\n",
      "* Stats\n",
      "* URIParser\n",
      "* ZMQ"
     ]
    }
   ],
   "metadata": {}
  }
 ]
}